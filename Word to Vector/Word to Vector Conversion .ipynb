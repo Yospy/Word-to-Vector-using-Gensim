{
 "cells": [
  {
   "cell_type": "code",
   "execution_count": 2,
   "id": "611fa206",
   "metadata": {},
   "outputs": [],
   "source": [
    "import gensim\n",
    "import pandas as pd"
   ]
  },
  {
   "cell_type": "code",
   "execution_count": 4,
   "id": "0ea0b9a4",
   "metadata": {},
   "outputs": [
    {
     "data": {
      "text/html": [
       "<div>\n",
       "<style scoped>\n",
       "    .dataframe tbody tr th:only-of-type {\n",
       "        vertical-align: middle;\n",
       "    }\n",
       "\n",
       "    .dataframe tbody tr th {\n",
       "        vertical-align: top;\n",
       "    }\n",
       "\n",
       "    .dataframe thead th {\n",
       "        text-align: right;\n",
       "    }\n",
       "</style>\n",
       "<table border=\"1\" class=\"dataframe\">\n",
       "  <thead>\n",
       "    <tr style=\"text-align: right;\">\n",
       "      <th></th>\n",
       "      <th>reviewerID</th>\n",
       "      <th>asin</th>\n",
       "      <th>reviewerName</th>\n",
       "      <th>helpful</th>\n",
       "      <th>reviewText</th>\n",
       "      <th>overall</th>\n",
       "      <th>summary</th>\n",
       "      <th>unixReviewTime</th>\n",
       "      <th>reviewTime</th>\n",
       "    </tr>\n",
       "  </thead>\n",
       "  <tbody>\n",
       "    <tr>\n",
       "      <th>0</th>\n",
       "      <td>AIXZKN4ACSKI</td>\n",
       "      <td>1881509818</td>\n",
       "      <td>David Briner</td>\n",
       "      <td>[0, 0]</td>\n",
       "      <td>This came in on time and I am veru happy with ...</td>\n",
       "      <td>5</td>\n",
       "      <td>Woks very good</td>\n",
       "      <td>1390694400</td>\n",
       "      <td>01 26, 2014</td>\n",
       "    </tr>\n",
       "    <tr>\n",
       "      <th>1</th>\n",
       "      <td>A1L5P841VIO02V</td>\n",
       "      <td>1881509818</td>\n",
       "      <td>Jason A. Kramer</td>\n",
       "      <td>[1, 1]</td>\n",
       "      <td>I had a factory Glock tool that I was using fo...</td>\n",
       "      <td>5</td>\n",
       "      <td>Works as well as the factory tool</td>\n",
       "      <td>1328140800</td>\n",
       "      <td>02 2, 2012</td>\n",
       "    </tr>\n",
       "    <tr>\n",
       "      <th>2</th>\n",
       "      <td>AB2W04NI4OEAD</td>\n",
       "      <td>1881509818</td>\n",
       "      <td>J. Fernald</td>\n",
       "      <td>[2, 2]</td>\n",
       "      <td>If you don't have a 3/32 punch or would like t...</td>\n",
       "      <td>4</td>\n",
       "      <td>It's a punch, that's all.</td>\n",
       "      <td>1330387200</td>\n",
       "      <td>02 28, 2012</td>\n",
       "    </tr>\n",
       "    <tr>\n",
       "      <th>3</th>\n",
       "      <td>A148SVSWKTJKU6</td>\n",
       "      <td>1881509818</td>\n",
       "      <td>Jusitn A. Watts \"Maverick9614\"</td>\n",
       "      <td>[0, 0]</td>\n",
       "      <td>This works no better than any 3/32 punch you w...</td>\n",
       "      <td>4</td>\n",
       "      <td>It's a punch with a Glock logo.</td>\n",
       "      <td>1328400000</td>\n",
       "      <td>02 5, 2012</td>\n",
       "    </tr>\n",
       "    <tr>\n",
       "      <th>4</th>\n",
       "      <td>AAAWJ6LW9WMOO</td>\n",
       "      <td>1881509818</td>\n",
       "      <td>Material Man</td>\n",
       "      <td>[0, 0]</td>\n",
       "      <td>I purchased this thinking maybe I need a speci...</td>\n",
       "      <td>4</td>\n",
       "      <td>Ok,tool does what a regular punch does.</td>\n",
       "      <td>1366675200</td>\n",
       "      <td>04 23, 2013</td>\n",
       "    </tr>\n",
       "  </tbody>\n",
       "</table>\n",
       "</div>"
      ],
      "text/plain": [
       "       reviewerID        asin                    reviewerName helpful  \\\n",
       "0    AIXZKN4ACSKI  1881509818                    David Briner  [0, 0]   \n",
       "1  A1L5P841VIO02V  1881509818                 Jason A. Kramer  [1, 1]   \n",
       "2   AB2W04NI4OEAD  1881509818                      J. Fernald  [2, 2]   \n",
       "3  A148SVSWKTJKU6  1881509818  Jusitn A. Watts \"Maverick9614\"  [0, 0]   \n",
       "4   AAAWJ6LW9WMOO  1881509818                    Material Man  [0, 0]   \n",
       "\n",
       "                                          reviewText  overall  \\\n",
       "0  This came in on time and I am veru happy with ...        5   \n",
       "1  I had a factory Glock tool that I was using fo...        5   \n",
       "2  If you don't have a 3/32 punch or would like t...        4   \n",
       "3  This works no better than any 3/32 punch you w...        4   \n",
       "4  I purchased this thinking maybe I need a speci...        4   \n",
       "\n",
       "                                   summary  unixReviewTime   reviewTime  \n",
       "0                           Woks very good      1390694400  01 26, 2014  \n",
       "1        Works as well as the factory tool      1328140800   02 2, 2012  \n",
       "2                It's a punch, that's all.      1330387200  02 28, 2012  \n",
       "3          It's a punch with a Glock logo.      1328400000   02 5, 2012  \n",
       "4  Ok,tool does what a regular punch does.      1366675200  04 23, 2013  "
      ]
     },
     "execution_count": 4,
     "metadata": {},
     "output_type": "execute_result"
    }
   ],
   "source": [
    "df = pd.read_json('reviews_Sports_and_Outdoors_5.json',lines=True)\n",
    "df.head()"
   ]
  },
  {
   "cell_type": "code",
   "execution_count": 6,
   "id": "65ba8e4b",
   "metadata": {},
   "outputs": [
    {
     "data": {
      "text/plain": [
       "'This came in on time and I am veru happy with it, I haved used it already and it makes taking out the pins in my glock 32 very easy'"
      ]
     },
     "execution_count": 6,
     "metadata": {},
     "output_type": "execute_result"
    }
   ],
   "source": [
    "df.reviewText[0]"
   ]
  },
  {
   "cell_type": "markdown",
   "id": "a7dc1a28",
   "metadata": {},
   "source": [
    "#  Using gensim to filter the text "
   ]
  },
  {
   "cell_type": "code",
   "execution_count": 7,
   "id": "74523530",
   "metadata": {},
   "outputs": [],
   "source": [
    "re_text = df.reviewText.apply(gensim.utils.simple_preprocess)"
   ]
  },
  {
   "cell_type": "code",
   "execution_count": 10,
   "id": "6acf775e",
   "metadata": {},
   "outputs": [],
   "source": [
    "model = gensim.models.Word2Vec(window=4,min_count=2,workers=6)"
   ]
  },
  {
   "cell_type": "code",
   "execution_count": 11,
   "id": "96168b6f",
   "metadata": {},
   "outputs": [],
   "source": [
    "model.build_vocab(re_text,progress_per=1000)"
   ]
  },
  {
   "cell_type": "code",
   "execution_count": 12,
   "id": "c8d7dac9",
   "metadata": {},
   "outputs": [
    {
     "data": {
      "text/plain": [
       "5"
      ]
     },
     "execution_count": 12,
     "metadata": {},
     "output_type": "execute_result"
    }
   ],
   "source": [
    "model.epochs"
   ]
  },
  {
   "cell_type": "code",
   "execution_count": 13,
   "id": "2e00a340",
   "metadata": {},
   "outputs": [
    {
     "data": {
      "text/plain": [
       "296337"
      ]
     },
     "execution_count": 13,
     "metadata": {},
     "output_type": "execute_result"
    }
   ],
   "source": [
    "model.corpus_count"
   ]
  },
  {
   "cell_type": "markdown",
   "id": "484f7307",
   "metadata": {},
   "source": [
    "# Training the model "
   ]
  },
  {
   "cell_type": "code",
   "execution_count": 14,
   "id": "fc732eca",
   "metadata": {},
   "outputs": [
    {
     "data": {
      "text/plain": [
       "(91341188, 121496535)"
      ]
     },
     "execution_count": 14,
     "metadata": {},
     "output_type": "execute_result"
    }
   ],
   "source": [
    "model.train(re_text,total_examples=model.corpus_count,epochs=model.epochs)"
   ]
  },
  {
   "cell_type": "markdown",
   "id": "6fc6b559",
   "metadata": {},
   "source": [
    "# Testing the model "
   ]
  },
  {
   "cell_type": "code",
   "execution_count": 15,
   "id": "ee1874e8",
   "metadata": {},
   "outputs": [
    {
     "data": {
      "text/plain": [
       "[('fast', 0.6024020910263062),\n",
       " ('slowly', 0.6023931503295898),\n",
       " ('continuously', 0.5799856185913086),\n",
       " ('slows', 0.5458653569221497),\n",
       " ('rapidly', 0.5420941710472107),\n",
       " ('slowing', 0.5407978296279907),\n",
       " ('touchy', 0.5357325673103333),\n",
       " ('sluggish', 0.5267224907875061),\n",
       " ('slowed', 0.5226086378097534),\n",
       " ('hill', 0.5143055319786072)]"
      ]
     },
     "execution_count": 15,
     "metadata": {},
     "output_type": "execute_result"
    }
   ],
   "source": [
    "model.wv.most_similar(\"slow\")"
   ]
  },
  {
   "cell_type": "code",
   "execution_count": 22,
   "id": "dcb05f49",
   "metadata": {},
   "outputs": [
    {
     "data": {
      "text/plain": [
       "[('fantastic', 0.9056501984596252),\n",
       " ('terrific', 0.8066978454589844),\n",
       " ('good', 0.8039964437484741),\n",
       " ('wonderful', 0.801974892616272),\n",
       " ('excellent', 0.7702932357788086),\n",
       " ('awesome', 0.7675307989120483),\n",
       " ('perfect', 0.7432664632797241),\n",
       " ('nice', 0.715480387210846),\n",
       " ('superb', 0.6970864534378052),\n",
       " ('amazing', 0.6691823601722717)]"
      ]
     },
     "execution_count": 22,
     "metadata": {},
     "output_type": "execute_result"
    }
   ],
   "source": [
    "model.wv.most_similar(\"great\")"
   ]
  },
  {
   "cell_type": "code",
   "execution_count": 24,
   "id": "36d4f3ba",
   "metadata": {},
   "outputs": [
    {
     "data": {
      "text/plain": [
       "0.5111841"
      ]
     },
     "execution_count": 24,
     "metadata": {},
     "output_type": "execute_result"
    }
   ],
   "source": [
    "model.wv.similarity(w1=\"bad\",w2=\"poor\")"
   ]
  },
  {
   "cell_type": "code",
   "execution_count": 26,
   "id": "f85f8aa3",
   "metadata": {},
   "outputs": [
    {
     "data": {
      "text/plain": [
       "0.8039964"
      ]
     },
     "execution_count": 26,
     "metadata": {},
     "output_type": "execute_result"
    }
   ],
   "source": [
    "model.wv.similarity(w1=\"good\",w2=\"great\")"
   ]
  },
  {
   "cell_type": "markdown",
   "id": "4105a4c7",
   "metadata": {},
   "source": [
    "# Converting Summary text to vectors"
   ]
  },
  {
   "cell_type": "code",
   "execution_count": 27,
   "id": "d03e6f42",
   "metadata": {},
   "outputs": [],
   "source": [
    "summary = df.summary.apply(gensim.utils.simple_preprocess)"
   ]
  },
  {
   "cell_type": "code",
   "execution_count": 29,
   "id": "ecf18956",
   "metadata": {},
   "outputs": [
    {
     "data": {
      "text/plain": [
       "['great', 'lite']"
      ]
     },
     "execution_count": 29,
     "metadata": {},
     "output_type": "execute_result"
    }
   ],
   "source": [
    "summary[10]"
   ]
  },
  {
   "cell_type": "code",
   "execution_count": 30,
   "id": "3b4ef4e9",
   "metadata": {},
   "outputs": [],
   "source": [
    "summary_model = gensim.models.Word2Vec(window=2,min_count=2,workers=1)"
   ]
  },
  {
   "cell_type": "code",
   "execution_count": 31,
   "id": "db2264b0",
   "metadata": {},
   "outputs": [],
   "source": [
    "summary_model.build_vocab(summary,progress_per=1000)"
   ]
  },
  {
   "cell_type": "code",
   "execution_count": 32,
   "id": "de95d1c5",
   "metadata": {},
   "outputs": [
    {
     "data": {
      "text/plain": [
       "296337"
      ]
     },
     "execution_count": 32,
     "metadata": {},
     "output_type": "execute_result"
    }
   ],
   "source": [
    "summary_model.corpus_count"
   ]
  },
  {
   "cell_type": "code",
   "execution_count": 33,
   "id": "db3ddd4f",
   "metadata": {},
   "outputs": [
    {
     "data": {
      "text/plain": [
       "5"
      ]
     },
     "execution_count": 33,
     "metadata": {},
     "output_type": "execute_result"
    }
   ],
   "source": [
    "summary_model.epochs"
   ]
  },
  {
   "cell_type": "code",
   "execution_count": 37,
   "id": "3e38882b",
   "metadata": {},
   "outputs": [
    {
     "data": {
      "text/plain": [
       "(4495600, 5979755)"
      ]
     },
     "execution_count": 37,
     "metadata": {},
     "output_type": "execute_result"
    }
   ],
   "source": [
    "summary_model.train(summary,total_examples=summary_model.corpus_count,epochs=summary_model.epochs)"
   ]
  },
  {
   "cell_type": "code",
   "execution_count": 39,
   "id": "a71a97d5",
   "metadata": {},
   "outputs": [
    {
     "data": {
      "text/plain": [
       "[('fantastic', 0.8360148668289185),\n",
       " ('good', 0.8088656067848206),\n",
       " ('excellent', 0.7947685718536377),\n",
       " ('awesome', 0.7258298397064209),\n",
       " ('decent', 0.7207759618759155),\n",
       " ('nice', 0.7180708050727844),\n",
       " ('wonderful', 0.6895007491111755),\n",
       " ('perfect', 0.6876160502433777),\n",
       " ('terrific', 0.6549357771873474),\n",
       " ('amazing', 0.6525518894195557)]"
      ]
     },
     "execution_count": 39,
     "metadata": {},
     "output_type": "execute_result"
    }
   ],
   "source": [
    "summary_model.wv.most_similar(\"great\")"
   ]
  },
  {
   "cell_type": "code",
   "execution_count": 41,
   "id": "2268dce9",
   "metadata": {},
   "outputs": [
    {
     "data": {
      "text/plain": [
       "[('sturdy', 0.8321113586425781),\n",
       " ('strong', 0.8091036081314087),\n",
       " ('loud', 0.7816845178604126),\n",
       " ('cute', 0.752934455871582),\n",
       " ('slick', 0.7503292560577393),\n",
       " ('rugged', 0.7425723671913147),\n",
       " ('sharp', 0.731167733669281),\n",
       " ('practical', 0.7246024012565613),\n",
       " ('powerful', 0.7215080857276917),\n",
       " ('roomy', 0.7183566689491272)]"
      ]
     },
     "execution_count": 41,
     "metadata": {},
     "output_type": "execute_result"
    }
   ],
   "source": [
    "summary_model.wv.most_similar(\"tough\")"
   ]
  },
  {
   "cell_type": "code",
   "execution_count": 43,
   "id": "6edff39b",
   "metadata": {},
   "outputs": [
    {
     "data": {
      "text/plain": [
       "0.5355451"
      ]
     },
     "execution_count": 43,
     "metadata": {},
     "output_type": "execute_result"
    }
   ],
   "source": [
    "summary_model.wv.similarity(w1=\"bad\",w2=\"poor\")"
   ]
  },
  {
   "cell_type": "code",
   "execution_count": 46,
   "id": "352b0d30",
   "metadata": {},
   "outputs": [
    {
     "data": {
      "text/plain": [
       "0.8091037"
      ]
     },
     "execution_count": 46,
     "metadata": {},
     "output_type": "execute_result"
    }
   ],
   "source": [
    "summary_model.wv.similarity(w1=\"strong\",w2=\"tough\")"
   ]
  },
  {
   "cell_type": "markdown",
   "id": "5caaaa5a",
   "metadata": {},
   "source": [
    "# Saving both the model"
   ]
  },
  {
   "cell_type": "code",
   "execution_count": 47,
   "id": "83b666c6",
   "metadata": {},
   "outputs": [],
   "source": [
    "model.save(\"WordModel1.model\")"
   ]
  },
  {
   "cell_type": "code",
   "execution_count": null,
   "id": "9787a5e3",
   "metadata": {},
   "outputs": [],
   "source": [
    "summary_model.save(\"Word\")"
   ]
  }
 ],
 "metadata": {
  "kernelspec": {
   "display_name": "Python 3.9 (tensorflow)",
   "language": "python",
   "name": "tensorflow"
  },
  "language_info": {
   "codemirror_mode": {
    "name": "ipython",
    "version": 3
   },
   "file_extension": ".py",
   "mimetype": "text/x-python",
   "name": "python",
   "nbconvert_exporter": "python",
   "pygments_lexer": "ipython3",
   "version": "3.9.6"
  }
 },
 "nbformat": 4,
 "nbformat_minor": 5
}
